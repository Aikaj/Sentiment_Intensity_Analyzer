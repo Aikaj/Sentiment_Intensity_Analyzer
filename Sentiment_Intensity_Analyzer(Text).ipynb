{
 "cells": [
  {
   "cell_type": "code",
   "execution_count": 4,
   "id": "d3a67b2f",
   "metadata": {},
   "outputs": [
    {
     "name": "stderr",
     "output_type": "stream",
     "text": [
      "[nltk_data] Downloading package vader_lexicon to C:\\Users\\V I R U\n",
      "[nltk_data]     S\\AppData\\Roaming\\nltk_data...\n",
      "[nltk_data]   Package vader_lexicon is already up-to-date!\n"
     ]
    },
    {
     "name": "stdin",
     "output_type": "stream",
     "text": [
      "Enter Your Text:  No\n"
     ]
    },
    {
     "name": "stdout",
     "output_type": "stream",
     "text": [
      "Emotion Label: Negative\n"
     ]
    }
   ],
   "source": [
    "import nltk\n",
    "from nltk.sentiment import SentimentIntensityAnalyzer\n",
    "\n",
    "# Initialize the sentiment analyzer\n",
    "nltk.download('vader_lexicon')\n",
    "sia = SentimentIntensityAnalyzer()\n",
    "\n",
    "# Function to label emotions using NLP sentiment analysis\n",
    "def label_emotions(text):\n",
    "    sentiment_scores = sia.polarity_scores(text)\n",
    "    if sentiment_scores['compound'] >= 0.05:\n",
    "        return \"Positive\"\n",
    "    elif sentiment_scores['compound'] <= -0.05:\n",
    "        return \"Negative\"\n",
    "    else:\n",
    "        return \"Neutral\"\n",
    "\n",
    "# Example text\n",
    "text = input(\"Enter Your Text: \")\n",
    "\n",
    "\n",
    "# Label emotions using NLP sentiment analysis\n",
    "emotion_label = label_emotions(text)\n",
    "print(\"Emotion Label:\", emotion_label)\n"
   ]
  },
  {
   "cell_type": "code",
   "execution_count": null,
   "id": "85b59c54",
   "metadata": {},
   "outputs": [
    {
     "name": "stdout",
     "output_type": "stream",
     "text": [
      "I am ready for your command\n",
      "Ready...\n",
      "Your last command couldn't be heard\n",
      "Ready...\n",
      "Your last command couldn't be heard\n",
      "Ready...\n",
      "Your last command couldn't be heard\n",
      "Ready...\n",
      "Your last command couldn't be heard\n",
      "Ready...\n",
      "Your last command couldn't be heard\n",
      "Ready...\n",
      "Your last command couldn't be heard\n",
      "Ready...\n",
      "You said: hello han baby areas\n",
      "\n",
      "Ready...\n",
      "Your last command couldn't be heard\n",
      "Ready...\n",
      "Your last command couldn't be heard\n",
      "Ready...\n",
      "Your last command couldn't be heard\n",
      "Ready...\n",
      "Your last command couldn't be heard\n",
      "Ready...\n",
      "Your last command couldn't be heard\n",
      "Ready...\n",
      "Your last command couldn't be heard\n",
      "Ready...\n",
      "You said: black box\n",
      "\n",
      "Ready...\n",
      "Your last command couldn't be heard\n",
      "Ready...\n"
     ]
    }
   ],
   "source": []
  },
  {
   "cell_type": "code",
   "execution_count": null,
   "id": "350cab05-e910-45b8-a9da-df1f4b8c1a8d",
   "metadata": {},
   "outputs": [],
   "source": []
  }
 ],
 "metadata": {
  "kernelspec": {
   "display_name": "Python 3 (ipykernel)",
   "language": "python",
   "name": "python3"
  },
  "language_info": {
   "codemirror_mode": {
    "name": "ipython",
    "version": 3
   },
   "file_extension": ".py",
   "mimetype": "text/x-python",
   "name": "python",
   "nbconvert_exporter": "python",
   "pygments_lexer": "ipython3",
   "version": "3.11.7"
  }
 },
 "nbformat": 4,
 "nbformat_minor": 5
}
