{
 "cells": [
  {
   "cell_type": "code",
   "execution_count": null,
   "id": "d3a67b2f",
   "metadata": {},
   "outputs": [],
   "source": [
    "import nltk\n",
    "from nltk.sentiment import SentimentIntensityAnalyzer"
   ]
  },
  {
   "cell_type": "code",
   "execution_count": null,
   "id": "85b59c54",
   "metadata": {},
   "outputs": [],
   "source": [
    "# Initialize the sentiment analyzer\n",
    "nltk.download('vader_lexicon')  # only needed if you haven't downloaded it before\n",
    "sia = SentimentIntensityAnalyzer()"
   ]
  },
  {
   "cell_type": "code",
   "execution_count": null,
   "id": "350cab05-e910-45b8-a9da-df1f4b8c1a8d",
   "metadata": {},
   "outputs": [],
   "source": [
    "# Function to label emotions using NLP sentiment analysis\n",
    "def label_emotions(text):\n",
    "    sentiment_scores = sia.polarity_scores(text)\n",
    "    if sentiment_scores['compound'] >= 0.05:\n",
    "        return \"Positive\"\n",
    "    elif sentiment_scores['compound'] <= -0.05:\n",
    "        return \"Negative\"\n",
    "    else:\n",
    "        return \"Neutral\""
   ]
  },
  {
   "cell_type": "code",
   "execution_count": null,
   "id": "5b01645f-e604-451a-8ef1-cfb2d99d206a",
   "metadata": {},
   "outputs": [],
   "source": [
    "# Example text\n",
    "text = input(\"Enter Your Text: \")\n",
    "\n",
    "# Label emotions using NLP sentiment analysis\n",
    "emotion_label = label_emotions(text)\n",
    "print(\"Emotion Label:\", emotion_label)"
   ]
  }
 ],
 "metadata": {
  "kernelspec": {
   "display_name": "Python 3 (ipykernel)",
   "language": "python",
   "name": "python3"
  },
  "language_info": {
   "codemirror_mode": {
    "name": "ipython",
    "version": 3
   },
   "file_extension": ".py",
   "mimetype": "text/x-python",
   "name": "python",
   "nbconvert_exporter": "python",
   "pygments_lexer": "ipython3",
   "version": "3.11.7"
  }
 },
 "nbformat": 4,
 "nbformat_minor": 5
}
